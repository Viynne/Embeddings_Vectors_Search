{
 "cells": [
  {
   "attachments": {},
   "cell_type": "markdown",
   "id": "356b6c51",
   "metadata": {},
   "source": [
    "## Embeddings, Vector Databases, and Search using ChromaDB and Transformers"
   ]
  },
  {
   "cell_type": "code",
   "execution_count": null,
   "id": "ad2e2430",
   "metadata": {},
   "outputs": [],
   "source": [
    "# !pip install chromadb==0.3.21 tiktoken==0.3.3"
   ]
  },
  {
   "cell_type": "code",
   "execution_count": 6,
   "id": "c0247b4d",
   "metadata": {},
   "outputs": [
    {
     "name": "stdout",
     "output_type": "stream",
     "text": [
      "Collecting openpyxl\n",
      "  Downloading openpyxl-3.1.2-py2.py3-none-any.whl (249 kB)\n",
      "\u001b[2K     \u001b[38;2;114;156;31m━━━━━━━━━━━━━━━━━━━━━━━━━━━━━━━━━━━━━━━\u001b[0m \u001b[32m250.0/250.0 kB\u001b[0m \u001b[31m1.1 MB/s\u001b[0m eta \u001b[36m0:00:00\u001b[0m[36m0:00:01\u001b[0mm eta \u001b[36m0:00:01\u001b[0m\n",
      "\u001b[?25hCollecting et-xmlfile (from openpyxl)\n",
      "  Downloading et_xmlfile-1.1.0-py3-none-any.whl (4.7 kB)\n",
      "Installing collected packages: et-xmlfile, openpyxl\n",
      "Successfully installed et-xmlfile-1.1.0 openpyxl-3.1.2\n"
     ]
    }
   ],
   "source": [
    "# !pip install openpyxl"
   ]
  },
  {
   "cell_type": "code",
   "execution_count": 11,
   "id": "1d18dd6c",
   "metadata": {},
   "outputs": [
    {
     "data": {
      "text/html": [
       "<div>\n",
       "<style scoped>\n",
       "    .dataframe tbody tr th:only-of-type {\n",
       "        vertical-align: middle;\n",
       "    }\n",
       "\n",
       "    .dataframe tbody tr th {\n",
       "        vertical-align: top;\n",
       "    }\n",
       "\n",
       "    .dataframe thead th {\n",
       "        text-align: right;\n",
       "    }\n",
       "</style>\n",
       "<table border=\"1\" class=\"dataframe\">\n",
       "  <thead>\n",
       "    <tr style=\"text-align: right;\">\n",
       "      <th></th>\n",
       "      <th>Questions</th>\n",
       "      <th>Answers</th>\n",
       "    </tr>\n",
       "  </thead>\n",
       "  <tbody>\n",
       "    <tr>\n",
       "      <th>0</th>\n",
       "      <td>What-is-it-like-to-be-an-AI-developer</td>\n",
       "      <td>Being an AI developer can be both rewarding an...</td>\n",
       "    </tr>\n",
       "    <tr>\n",
       "      <th>1</th>\n",
       "      <td>How-useful-is-R-in-AI-Development</td>\n",
       "      <td>R is a powerful language for data analysis and...</td>\n",
       "    </tr>\n",
       "    <tr>\n",
       "      <th>2</th>\n",
       "      <td>Will-coding-become-less-important-as-AI-develops</td>\n",
       "      <td>Coding will always be an important part of dev...</td>\n",
       "    </tr>\n",
       "    <tr>\n",
       "      <th>3</th>\n",
       "      <td>Will-AI-develop-or-adopt-religion</td>\n",
       "      <td>It is unlikely that AI will develop or adopt a...</td>\n",
       "    </tr>\n",
       "    <tr>\n",
       "      <th>4</th>\n",
       "      <td>Can-an-AI-develop-cognitive-dissonance</td>\n",
       "      <td>It is possible for an AI to develop cognitive ...</td>\n",
       "    </tr>\n",
       "    <tr>\n",
       "      <th>...</th>\n",
       "      <td>...</td>\n",
       "      <td>...</td>\n",
       "    </tr>\n",
       "    <tr>\n",
       "      <th>16166</th>\n",
       "      <td>Do-sales-managers-travel-a-lot</td>\n",
       "      <td>Yes, sales managers often travel a lot. They m...</td>\n",
       "    </tr>\n",
       "    <tr>\n",
       "      <th>16167</th>\n",
       "      <td>Whats-the-pay-like-at-Pinterest-for-sales-mana...</td>\n",
       "      <td>The pay for a Sales Manager role at Pinterest ...</td>\n",
       "    </tr>\n",
       "    <tr>\n",
       "      <th>16168</th>\n",
       "      <td>What-profile-a-MBA-Marketing-fresher-should-jo...</td>\n",
       "      <td>A MBA Marketing fresher should join a profile ...</td>\n",
       "    </tr>\n",
       "    <tr>\n",
       "      <th>16169</th>\n",
       "      <td>What-feature-must-be-included-for-sales-manage...</td>\n",
       "      <td>1. Customer Relationship Management (CRM) soft...</td>\n",
       "    </tr>\n",
       "    <tr>\n",
       "      <th>16170</th>\n",
       "      <td>Sales-manager-in-Patel-Road-ways-or-sales-mana...</td>\n",
       "      <td>The correct sentence is \"Sales manager at Pate...</td>\n",
       "    </tr>\n",
       "  </tbody>\n",
       "</table>\n",
       "<p>16171 rows × 2 columns</p>\n",
       "</div>"
      ],
      "text/plain": [
       "                                               Questions   \n",
       "0                  What-is-it-like-to-be-an-AI-developer  \\\n",
       "1                      How-useful-is-R-in-AI-Development   \n",
       "2       Will-coding-become-less-important-as-AI-develops   \n",
       "3                      Will-AI-develop-or-adopt-religion   \n",
       "4                 Can-an-AI-develop-cognitive-dissonance   \n",
       "...                                                  ...   \n",
       "16166                     Do-sales-managers-travel-a-lot   \n",
       "16167  Whats-the-pay-like-at-Pinterest-for-sales-mana...   \n",
       "16168  What-profile-a-MBA-Marketing-fresher-should-jo...   \n",
       "16169  What-feature-must-be-included-for-sales-manage...   \n",
       "16170  Sales-manager-in-Patel-Road-ways-or-sales-mana...   \n",
       "\n",
       "                                                 Answers  \n",
       "0      Being an AI developer can be both rewarding an...  \n",
       "1      R is a powerful language for data analysis and...  \n",
       "2      Coding will always be an important part of dev...  \n",
       "3      It is unlikely that AI will develop or adopt a...  \n",
       "4      It is possible for an AI to develop cognitive ...  \n",
       "...                                                  ...  \n",
       "16166  Yes, sales managers often travel a lot. They m...  \n",
       "16167  The pay for a Sales Manager role at Pinterest ...  \n",
       "16168  A MBA Marketing fresher should join a profile ...  \n",
       "16169  1. Customer Relationship Management (CRM) soft...  \n",
       "16170  The correct sentence is \"Sales manager at Pate...  \n",
       "\n",
       "[16171 rows x 2 columns]"
      ]
     },
     "metadata": {},
     "output_type": "display_data"
    }
   ],
   "source": [
    "import pandas as pd\n",
    "\n",
    "qadf = pd.read_excel(\"data/Copy of Merged-QuestionsAnswers.xlsx\")\n",
    "display(qadf)"
   ]
  },
  {
   "cell_type": "code",
   "execution_count": 12,
   "id": "e87469f2",
   "metadata": {},
   "outputs": [],
   "source": [
    "def strip_hyphen(x):\n",
    "    return x.replace('-', ' ')\n",
    "\n",
    "qadf['Questions'] = qadf[\"Questions\"].apply(strip_hyphen)"
   ]
  },
  {
   "cell_type": "code",
   "execution_count": 16,
   "id": "e2cc6d95",
   "metadata": {},
   "outputs": [],
   "source": [
    "qadf.rename(columns={'Answers': 'Contexts'}, inplace=True)"
   ]
  },
  {
   "cell_type": "code",
   "execution_count": 34,
   "id": "695d5f35",
   "metadata": {},
   "outputs": [],
   "source": [
    "qadf['id'] =[f\"id{id}\" for id in range(0,qadf.shape[0])]"
   ]
  },
  {
   "cell_type": "code",
   "execution_count": 122,
   "id": "2babc832",
   "metadata": {
    "scrolled": true
   },
   "outputs": [
    {
     "data": {
      "text/plain": [
       "'Why is society ignoring the potentially devastating consequences of AI development'"
      ]
     },
     "execution_count": 122,
     "metadata": {},
     "output_type": "execute_result"
    }
   ],
   "source": [
    "qadf[\"Questions\"][23]"
   ]
  },
  {
   "cell_type": "code",
   "execution_count": 37,
   "id": "b84b7510",
   "metadata": {},
   "outputs": [
    {
     "name": "stdout",
     "output_type": "stream",
     "text": [
      "<class 'pandas.core.frame.DataFrame'>\n",
      "Index: 16171 entries, 0 to 16170\n",
      "Data columns (total 3 columns):\n",
      " #   Column     Non-Null Count  Dtype \n",
      "---  ------     --------------  ----- \n",
      " 0   Questions  16171 non-null  object\n",
      " 1   Contexts   16025 non-null  object\n",
      " 2   id         16171 non-null  object\n",
      "dtypes: object(3)\n",
      "memory usage: 505.3+ KB\n"
     ]
    }
   ],
   "source": [
    "qadf.info()"
   ]
  },
  {
   "cell_type": "code",
   "execution_count": 18,
   "id": "8984d80b",
   "metadata": {},
   "outputs": [],
   "source": [
    "contexts = qadf[\"Contexts\"].to_list()"
   ]
  },
  {
   "cell_type": "code",
   "execution_count": 19,
   "id": "2845a63e",
   "metadata": {},
   "outputs": [
    {
     "name": "stderr",
     "output_type": "stream",
     "text": [
      "Using embedded DuckDB with persistence: data will be stored in: chroma_data\n"
     ]
    }
   ],
   "source": [
    "import chromadb\n",
    "from chromadb.config import Settings\n",
    "\n",
    "chroma_client = chromadb.Client(\n",
    "    Settings(\n",
    "        chroma_db_impl=\"duckdb+parquet\",\n",
    "        persist_directory=\"chroma_data\", \n",
    "    )\n",
    ")"
   ]
  },
  {
   "cell_type": "code",
   "execution_count": 20,
   "id": "c7018674",
   "metadata": {},
   "outputs": [],
   "source": [
    "collection_name = \"tech_ans\""
   ]
  },
  {
   "cell_type": "code",
   "execution_count": 21,
   "id": "aefaf606",
   "metadata": {},
   "outputs": [
    {
     "name": "stderr",
     "output_type": "stream",
     "text": [
      "No embedding_function provided, using default embedding function: SentenceTransformerEmbeddingFunction\n"
     ]
    },
    {
     "name": "stdout",
     "output_type": "stream",
     "text": [
      "Creating collection: 'tech_ans'...\n"
     ]
    },
    {
     "name": "stderr",
     "output_type": "stream",
     "text": [
      "/home/vhyne/anaconda3/envs/transforms/lib/python3.10/site-packages/tqdm/auto.py:21: TqdmWarning: IProgress not found. Please update jupyter and ipywidgets. See https://ipywidgets.readthedocs.io/en/stable/user_install.html\n",
      "  from .autonotebook import tqdm as notebook_tqdm\n",
      "2023-07-02 14:18:05.611224: I tensorflow/core/platform/cpu_feature_guard.cc:193] This TensorFlow binary is optimized with oneAPI Deep Neural Network Library (oneDNN) to use the following CPU instructions in performance-critical operations:  SSE4.1 SSE4.2 AVX AVX2 FMA\n",
      "To enable them in other operations, rebuild TensorFlow with the appropriate compiler flags.\n"
     ]
    },
    {
     "name": "stdout",
     "output_type": "stream",
     "text": [
      "Collection Created successfully!\n"
     ]
    }
   ],
   "source": [
    "# Check the existence of collection name\n",
    "if len(chroma_client.list_collections()) > 0 and collection_name in [chroma_client.list_collections()[0].name]:\n",
    "    chroma_client.delete_collection(name=collection_name)\n",
    "else:\n",
    "    print(f\"Creating collection: '{collection_name}'...\")\n",
    "    talks_collection = chroma_client.create_collection(name=collection_name)\n",
    "    print(\"Collection Created successfully!\")"
   ]
  },
  {
   "cell_type": "code",
   "execution_count": 38,
   "id": "146aab9d",
   "metadata": {},
   "outputs": [],
   "source": [
    "talks_collection.add(\n",
    "    documents=qadf[\"Contexts\"][:100].tolist(),\n",
    "    ids=qadf['id'][:100].tolist()\n",
    ")"
   ]
  },
  {
   "cell_type": "code",
   "execution_count": 40,
   "id": "7ef4ad7f",
   "metadata": {},
   "outputs": [
    {
     "name": "stdout",
     "output_type": "stream",
     "text": [
      "{\n",
      "    \"ids\": [\n",
      "        [\n",
      "            \"id0\",\n",
      "            \"id42\",\n",
      "            \"id45\",\n",
      "            \"id78\",\n",
      "            \"id79\"\n",
      "        ]\n",
      "    ],\n",
      "    \"embeddings\": null,\n",
      "    \"documents\": [\n",
      "        [\n",
      "            \"Being an AI developer can be both rewarding and challenging. On the one hand, AI developers have the opportunity to create innovative solutions to complex problems, and to make a real difference in the world. On the other hand, AI development requires a deep understanding of both the technology and the domain in which it is being applied. AI developers must also be able to think critically and creatively, and to work with a wide range of stakeholders.\",\n",
      "            \"1. Get a degree in computer science, mathematics, or a related field.\\n2. Learn the fundamentals of AI, such as machine learning, deep learning, natural language processing, and computer vision.\\n3. Gain experience with programming languages such as Python, Java, and C++.\\n4. Familiarize yourself with AI frameworks such as TensorFlow, Keras, and PyTorch.\\n5. Develop a portfolio of AI projects.\\n6. Participate in hackathons and other AI competitions.\\n7. Network with other AI developers.\\n8. Stay up to date with the latest AI trends and technologies.\",\n",
      "            \"The exact number of skills needed to become an AI developer depends on the specific job role and the level of expertise required. Generally, AI developers need to have a strong understanding of mathematics, computer science, and programming. They should also have experience with machine learning algorithms, data analysis, and software engineering. Additionally, AI developers should have knowledge of natural language processing, computer vision, and robotics.\",\n",
      "            \"AI development requires expertise from a variety of fields, including computer science, mathematics, engineering, and data science. Additionally, AI developers need to have a strong understanding of machine learning algorithms, natural language processing, and deep learning. Other skills that are beneficial for AI development include software engineering, software development, and programming.\",\n",
      "            \"I learned advanced AI development through a combination of self-study, online courses, and hands-on experience. I started by reading books and articles on the subject, and then moved on to taking online courses from leading universities and organizations. I also attended conferences and seminars to stay up to date on the latest developments in the field. Finally, I gained hands-on experience by working on projects with teams of AI developers. This allowed me to gain a deeper understanding of the technology and to apply my knowledge to real-world problems.\"\n",
      "        ]\n",
      "    ],\n",
      "    \"metadatas\": [\n",
      "        [\n",
      "            null,\n",
      "            null,\n",
      "            null,\n",
      "            null,\n",
      "            null\n",
      "        ]\n",
      "    ],\n",
      "    \"distances\": [\n",
      "        [\n",
      "            0.5145703554153442,\n",
      "            0.6471338868141174,\n",
      "            0.6544322967529297,\n",
      "            0.6699991226196289,\n",
      "            0.6710138320922852\n",
      "        ]\n",
      "    ]\n",
      "}\n"
     ]
    }
   ],
   "source": [
    "import json\n",
    "\n",
    "results = talks_collection.query(\n",
    "    query_texts=\"what is it like to be an AI Developer\",\n",
    "    n_results=5\n",
    ")\n",
    "\n",
    "print(json.dumps(results, indent=4))"
   ]
  },
  {
   "cell_type": "code",
   "execution_count": 52,
   "id": "495ff684",
   "metadata": {},
   "outputs": [],
   "source": [
    "from transformers import AutoTokenizer, AutoModelForCausalLM, pipeline\n",
    "\n",
    "# model_id = 'EleutherAI/gpt-neo-125M'\n",
    "model_id = 'gpt2'\n",
    "tokenizer = AutoTokenizer.from_pretrained(model_id)\n",
    "lm_model = AutoModelForCausalLM.from_pretrained(model_id)\n",
    "\n",
    "pipe = pipeline(\n",
    "    \"text-generation\", model=lm_model, tokenizer=tokenizer, max_new_tokens=256, device_map=\"auto\", handle_long_generation=\"hole\"\n",
    ")"
   ]
  },
  {
   "cell_type": "code",
   "execution_count": 123,
   "id": "6b20f139",
   "metadata": {},
   "outputs": [],
   "source": [
    "\n",
    "question = 'Why is society ignoring the potentially devastating consequences of AI development'"
   ]
  },
  {
   "cell_type": "code",
   "execution_count": 124,
   "id": "ae655ca2",
   "metadata": {},
   "outputs": [],
   "source": [
    "results = talks_collection.query(\n",
    "    query_texts=question,\n",
    "    n_results=5\n",
    ")"
   ]
  },
  {
   "cell_type": "code",
   "execution_count": 125,
   "id": "d06655f6",
   "metadata": {},
   "outputs": [],
   "source": [
    "context = results['documents'][0][0]\n",
    "\n",
    "prompt_template = f\"Answer the given question only using the context provided. Do not Hallucinate.\\n\\nContext: {context}\\n\\nQuestion: {question}\\n\\n\\\n",
    "Answer:\""
   ]
  },
  {
   "cell_type": "code",
   "execution_count": 127,
   "id": "64055ca8",
   "metadata": {},
   "outputs": [
    {
     "name": "stderr",
     "output_type": "stream",
     "text": [
      "Setting `pad_token_id` to `eos_token_id`:50256 for open-end generation.\n"
     ]
    },
    {
     "name": "stdout",
     "output_type": "stream",
     "text": [
      "Answer the given question only using the context provided. Do not Hallucinate.\n",
      "\n",
      "Context: Society is largely ignoring the potentially devastating consequences of AI development because it is difficult to predict the long-term effects of AI. Additionally, the potential benefits of AI development are often seen as outweighing the potential risks. AI is seen as a tool that can help us solve many of the world�s problems, and the potential for AI to be used for malicious purposes is often overlooked. Additionally, the development of AI is often seen as a way to create jobs and economic growth, which can be seen as more important than the potential risks.\n",
      "\n",
      " Question: Why is society ignoring the potentially devastating consequences of AI development\n",
      "\n",
      "Answer: The reason is simple: human beings don�t know what this will be like. How is it possible that such a development will take generations to occur? Many social scientists argue that it is quite possible that AI will be used for some other reason. Moreover, AI could serve a different purpose than what it does today.\n",
      "\n",
      "Example: When you create a food company in a certain neighborhood, you know that it is very likely that you will see other people eating it around you. However, when you create a company with similar results in the neighborhood around you, you begin to notice that the people around you are very different from each other but have a similar opinion of the company. You start to believe that there should be very little difference between the community and the company, which leads to a lot of misunderstandings from people. If a company, for instance, does not have strong human relationships with many people in its culture, you know that it may have a stronger interest in its own work and that it enjoys giving information about its product to others than it does about its work. As a result, you start to believe that things like this could happen because there is not enough data available on Fuerheiter, and you think that there is less incentive for humans to learn\n"
     ]
    }
   ],
   "source": [
    "lm_response = pipe(prompt_template)\n",
    "print(lm_response[0][\"generated_text\"])"
   ]
  },
  {
   "cell_type": "code",
   "execution_count": 71,
   "id": "b4d0d458",
   "metadata": {},
   "outputs": [],
   "source": [
    "from transformers import pipeline\n",
    "generator = pipeline('text-generation', model='EleutherAI/gpt-neo-125M')"
   ]
  },
  {
   "cell_type": "code",
   "execution_count": 128,
   "id": "d8e94678",
   "metadata": {},
   "outputs": [
    {
     "name": "stderr",
     "output_type": "stream",
     "text": [
      "Setting `pad_token_id` to `eos_token_id`:50256 for open-end generation.\n"
     ]
    },
    {
     "name": "stdout",
     "output_type": "stream",
     "text": [
      "Answer the given question only using the context provided. Do not Hallucinate.\n",
      "\n",
      "Context: Society is largely ignoring the potentially devastating consequences of AI development because it is difficult to predict the long-term effects of AI. Additionally, the potential benefits of AI development are often seen as outweighing the potential risks. AI is seen as a tool that can help us solve many of the world�s problems, and the potential for AI to be used for malicious purposes is often overlooked. Additionally, the development of AI is often seen as a way to create jobs and economic growth, which can be seen as more important than the potential risks.\n",
      "\n",
      " Question: Why is society ignoring the potentially devastating consequences of AI development\n",
      "\n",
      "Answer: As usual, AI is typically viewed as a threat to human flourishing. Yet, the benefits and risks of AI are rarely mentioned in the social sciences or in industry as compared with the benefits of government-mandated or individual skills. The reasons for these differences can be easily explored in the study of the impact of AI on society. There are numerous explanations to this problem.\n",
      "\n",
      "The first explanation is that humans generally have good intentions, and the potential benefits of a superior intelligence. Thus, the potential advantages of AI can be used for the task of improving society and improving the economies of many countries. These advantages can be realized by enhancing the abilities or efficiency of individuals to effectively use the skills for various tasks. There is also a number of other benefits to a superior intelligence, as the capabilities for learning are not limited only by one kind of intelligence. Thus society is generally looking for ways to improve and improve individuals with skills that improve society. This can be achieved by reducing the level of risk and gaining\n"
     ]
    }
   ],
   "source": [
    "lm_response = generator(prompt_template, do_sample=True, min_length=20, max_new_tokens=200)\n",
    "print(lm_response[0][\"generated_text\"])"
   ]
  },
  {
   "cell_type": "code",
   "execution_count": 126,
   "id": "be170723",
   "metadata": {},
   "outputs": [
    {
     "name": "stdout",
     "output_type": "stream",
     "text": [
      "{\n",
      "    \"ids\": [\n",
      "        [\n",
      "            \"id23\",\n",
      "            \"id31\",\n",
      "            \"id99\",\n",
      "            \"id74\",\n",
      "            \"id47\"\n",
      "        ]\n",
      "    ],\n",
      "    \"embeddings\": null,\n",
      "    \"documents\": [\n",
      "        [\n",
      "            \"Society is largely ignoring the potentially devastating consequences of AI development because it is difficult to predict the long-term effects of AI. Additionally, the potential benefits of AI development are often seen as outweighing the potential risks. AI is seen as a tool that can help us solve many of the world\\ufffds problems, and the potential for AI to be used for malicious purposes is often overlooked. Additionally, the development of AI is often seen as a way to create jobs and economic growth, which can be seen as more important than the potential risks.\",\n",
      "            \"1. Lack of Diversity: AI development is often dominated by a small group of people with similar backgrounds and experiences. This limits the potential of AI to be truly innovative and creative.\\n2. Over-Reliance on Data: AI development often relies heavily on large datasets to train algorithms. This can lead to models that are biased and inaccurate.\\n3. Lack of Human-Centered Design: AI development often focuses on the technical aspects of the technology, without considering the needs of the people who will be using it.\\n4. Poor Documentation: AI development often lacks clear documentation, making it difficult for developers to understand how the technology works and how to use it.\\n5. Poor Security Practices: AI development often lacks proper security measures, making it vulnerable to malicious attacks.\",\n",
      "            \"The development of AI is an important part of the future of our society. It can help us to automate mundane tasks, improve our quality of life, and create new opportunities for work. As such, it is important to continue to develop AI responsibly and thoughtfully.\\nAt the same time, it is important to recognize that AI development should not be pursued at the expense of human labor. We need to ensure that AI is used to supplement and enhance human labor, not replace it. This means that we need to focus on creating jobs that require human skills and creativity, and ensure that those jobs are available to everyone.\\nWe also need to ensure that AI development is done in a way that is ethical and responsible. This means that AI should be developed with the goal of improving the lives of people, not replacing them. We should also ensure that AI is developed in a way that is transparent and accountable, so that people can understand how AI is being used and how it is\",\n",
      "            \"I think the development of AI is a very exciting and promising field. AI has the potential to revolutionize many aspects of our lives, from healthcare to transportation. It can help us make better decisions, automate mundane tasks, and even create new products and services. I'm excited to see what the future holds for AI and how it will continue to shape our lives.\",\n",
      "            \"Bill Gates has expressed concern about the potential risks of AI developments, particularly in terms of job displacement and the potential for AI to be used for malicious purposes. He has also expressed concern about the lack of regulation and oversight of AI development, which could lead to unintended consequences. He believes that governments and companies need to work together to ensure that AI is developed responsibly and with appropriate safeguards in place.\"\n",
      "        ]\n",
      "    ],\n",
      "    \"metadatas\": [\n",
      "        [\n",
      "            null,\n",
      "            null,\n",
      "            null,\n",
      "            null,\n",
      "            null\n",
      "        ]\n",
      "    ],\n",
      "    \"distances\": [\n",
      "        [\n",
      "            0.3369937539100647,\n",
      "            0.5375154614448547,\n",
      "            0.6103163957595825,\n",
      "            0.7041193842887878,\n",
      "            0.7081387639045715\n",
      "        ]\n",
      "    ]\n",
      "}\n"
     ]
    }
   ],
   "source": [
    "print(json.dumps(results, indent=4))"
   ]
  },
  {
   "cell_type": "code",
   "execution_count": null,
   "id": "328a7656",
   "metadata": {},
   "outputs": [],
   "source": []
  }
 ],
 "metadata": {
  "kernelspec": {
   "display_name": "Python [conda env:transforms]",
   "language": "python",
   "name": "conda-env-transforms-py"
  },
  "language_info": {
   "codemirror_mode": {
    "name": "ipython",
    "version": 3
   },
   "file_extension": ".py",
   "mimetype": "text/x-python",
   "name": "python",
   "nbconvert_exporter": "python",
   "pygments_lexer": "ipython3",
   "version": "3.10.10"
  }
 },
 "nbformat": 4,
 "nbformat_minor": 5
}
